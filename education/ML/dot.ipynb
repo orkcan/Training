{
 "cells": [
  {
   "cell_type": "code",
   "outputs": [
    {
     "ename": "SyntaxError",
     "evalue": "invalid syntax (493527015.py, line 1)",
     "output_type": "error",
     "traceback": [
      "\u001B[1;36m  Cell \u001B[1;32mIn[1], line 1\u001B[1;36m\u001B[0m\n\u001B[1;33m    digraph Tree {\u001B[0m\n\u001B[1;37m            ^\u001B[0m\n\u001B[1;31mSyntaxError\u001B[0m\u001B[1;31m:\u001B[0m invalid syntax\n"
     ]
    }
   ],
   "source": [
    "digraph Tree {\n",
    "node [shape=box, style=\"filled, rounded\", color=\"black\", fontname=\"helvetica\"] ;\n",
    "edge [fontname=\"helvetica\"] ;\n",
    "0 [label=\"age <= 30.5\\ngini = 0.778\\nsamples = 18\\nvalue = [3, 6, 3, 3, 3]\\nclass = Classical\", fillcolor=\"#e5fad7\"] ;\n",
    "1 [label=\"age <= 25.5\\ngini = 0.75\\nsamples = 12\\nvalue = [3, 0, 3, 3, 3]\\nclass = Acoustic\", fillcolor=\"#ffffff\"] ;\n",
    "0 -> 1 [labeldistance=2.5, labelangle=45, headlabel=\"True\"] ;\n",
    "2 [label=\"gender <= 0.5\\ngini = 0.5\\nsamples = 6\\nvalue = [0, 0, 3, 3, 0]\\nclass = Dance\", fillcolor=\"#ffffff\"] ;\n",
    "1 -> 2 ;\n",
    "3 [label=\"gini = 0.0\\nsamples = 3\\nvalue = [0, 0, 3, 0, 0]\\nclass = Dance\", fillcolor=\"#39e5c5\"] ;\n",
    "2 -> 3 ;\n",
    "4 [label=\"gini = 0.0\\nsamples = 3\\nvalue = [0, 0, 0, 3, 0]\\nclass = HipHop\", fillcolor=\"#3c39e5\"] ;\n",
    "2 -> 4 ;\n",
    "5 [label=\"gender <= 0.5\\ngini = 0.5\\nsamples = 6\\nvalue = [3, 0, 0, 0, 3]\\nclass = Acoustic\", fillcolor=\"#ffffff\"] ;\n",
    "1 -> 5 ;\n",
    "6 [label=\"gini = 0.0\\nsamples = 3\\nvalue = [3, 0, 0, 0, 0]\\nclass = Acoustic\", fillcolor=\"#e58139\"] ;\n",
    "5 -> 6 ;\n",
    "7 [label=\"gini = 0.0\\nsamples = 3\\nvalue = [0, 0, 0, 0, 3]\\nclass = Jazz\", fillcolor=\"#e539c0\"] ;\n",
    "5 -> 7 ;\n",
    "8 [label=\"gini = 0.0\\nsamples = 6\\nvalue = [0, 6, 0, 0, 0]\\nclass = Classical\", fillcolor=\"#7be539\"] ;\n",
    "0 -> 8 [labeldistance=2.5, labelangle=-45, headlabel=\"False\"] ;\n",
    "}\n",
    "\n"
   ],
   "metadata": {
    "collapsed": false,
    "ExecuteTime": {
     "end_time": "2024-01-22T15:39:53.554012900Z",
     "start_time": "2024-01-22T15:39:53.546990400Z"
    }
   },
   "id": "e4b7763d73b84c49",
   "execution_count": 1
  }
 ],
 "metadata": {
  "kernelspec": {
   "display_name": "Python 3",
   "language": "python",
   "name": "python3"
  },
  "language_info": {
   "codemirror_mode": {
    "name": "ipython",
    "version": 2
   },
   "file_extension": ".py",
   "mimetype": "text/x-python",
   "name": "python",
   "nbconvert_exporter": "python",
   "pygments_lexer": "ipython2",
   "version": "2.7.6"
  }
 },
 "nbformat": 4,
 "nbformat_minor": 5
}
